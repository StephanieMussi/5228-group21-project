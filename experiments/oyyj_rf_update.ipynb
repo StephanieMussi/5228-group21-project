{
 "cells": [
  {
   "cell_type": "code",
   "execution_count": 1,
   "id": "8b7e52b8",
   "metadata": {},
   "outputs": [],
   "source": [
    "import pandas as pd\n",
    "import numpy as np\n",
    "from category_encoders import BinaryEncoder\n",
    "from sklearn.ensemble import RandomForestRegressor"
   ]
  },
  {
   "cell_type": "markdown",
   "id": "c098b92c",
   "metadata": {},
   "source": [
    "pip install category_encoders"
   ]
  },
  {
   "cell_type": "markdown",
   "id": "f2be507e",
   "metadata": {},
   "source": [
    "### Read train data and test data"
   ]
  },
  {
   "cell_type": "code",
   "execution_count": 23,
   "id": "4e81fb22",
   "metadata": {},
   "outputs": [
    {
     "name": "stdout",
     "output_type": "stream",
     "text": [
      "Number of train records: 60000\n"
     ]
    },
    {
     "data": {
      "text/html": [
       "<div>\n",
       "<style scoped>\n",
       "    .dataframe tbody tr th:only-of-type {\n",
       "        vertical-align: middle;\n",
       "    }\n",
       "\n",
       "    .dataframe tbody tr th {\n",
       "        vertical-align: top;\n",
       "    }\n",
       "\n",
       "    .dataframe thead th {\n",
       "        text-align: right;\n",
       "    }\n",
       "</style>\n",
       "<table border=\"1\" class=\"dataframe\">\n",
       "  <thead>\n",
       "    <tr style=\"text-align: right;\">\n",
       "      <th></th>\n",
       "      <th>rent_approval_date</th>\n",
       "      <th>town</th>\n",
       "      <th>block</th>\n",
       "      <th>street_name</th>\n",
       "      <th>flat_type</th>\n",
       "      <th>flat_model</th>\n",
       "      <th>floor_area_sqm</th>\n",
       "      <th>furnished</th>\n",
       "      <th>lease_commence_date</th>\n",
       "      <th>latitude</th>\n",
       "      <th>longitude</th>\n",
       "      <th>elevation</th>\n",
       "      <th>subzone</th>\n",
       "      <th>planning_area</th>\n",
       "      <th>region</th>\n",
       "      <th>monthly_rent</th>\n",
       "    </tr>\n",
       "  </thead>\n",
       "  <tbody>\n",
       "    <tr>\n",
       "      <th>0</th>\n",
       "      <td>2021-09</td>\n",
       "      <td>jurong east</td>\n",
       "      <td>257</td>\n",
       "      <td>Jurong East Street 24</td>\n",
       "      <td>3 room</td>\n",
       "      <td>new generation</td>\n",
       "      <td>67.0</td>\n",
       "      <td>yes</td>\n",
       "      <td>1983</td>\n",
       "      <td>1.344518</td>\n",
       "      <td>103.738630</td>\n",
       "      <td>0.0</td>\n",
       "      <td>yuhua east</td>\n",
       "      <td>jurong east</td>\n",
       "      <td>west region</td>\n",
       "      <td>1600</td>\n",
       "    </tr>\n",
       "    <tr>\n",
       "      <th>1</th>\n",
       "      <td>2022-05</td>\n",
       "      <td>bedok</td>\n",
       "      <td>119</td>\n",
       "      <td>bedok north road</td>\n",
       "      <td>4-room</td>\n",
       "      <td>new generation</td>\n",
       "      <td>92.0</td>\n",
       "      <td>yes</td>\n",
       "      <td>1978</td>\n",
       "      <td>1.330186</td>\n",
       "      <td>103.938717</td>\n",
       "      <td>0.0</td>\n",
       "      <td>bedok north</td>\n",
       "      <td>bedok</td>\n",
       "      <td>east region</td>\n",
       "      <td>2250</td>\n",
       "    </tr>\n",
       "    <tr>\n",
       "      <th>2</th>\n",
       "      <td>2022-10</td>\n",
       "      <td>toa payoh</td>\n",
       "      <td>157</td>\n",
       "      <td>lorong 1 toa payoh</td>\n",
       "      <td>3-room</td>\n",
       "      <td>improved</td>\n",
       "      <td>67.0</td>\n",
       "      <td>yes</td>\n",
       "      <td>1971</td>\n",
       "      <td>1.332242</td>\n",
       "      <td>103.845643</td>\n",
       "      <td>0.0</td>\n",
       "      <td>toa payoh central</td>\n",
       "      <td>toa payoh</td>\n",
       "      <td>central region</td>\n",
       "      <td>1900</td>\n",
       "    </tr>\n",
       "    <tr>\n",
       "      <th>3</th>\n",
       "      <td>2021-08</td>\n",
       "      <td>pasir ris</td>\n",
       "      <td>250</td>\n",
       "      <td>Pasir Ris Street 21</td>\n",
       "      <td>executive</td>\n",
       "      <td>apartment</td>\n",
       "      <td>149.0</td>\n",
       "      <td>yes</td>\n",
       "      <td>1993</td>\n",
       "      <td>1.370239</td>\n",
       "      <td>103.962894</td>\n",
       "      <td>0.0</td>\n",
       "      <td>pasir ris drive</td>\n",
       "      <td>pasir ris</td>\n",
       "      <td>east region</td>\n",
       "      <td>2850</td>\n",
       "    </tr>\n",
       "    <tr>\n",
       "      <th>4</th>\n",
       "      <td>2022-11</td>\n",
       "      <td>kallang/whampoa</td>\n",
       "      <td>34</td>\n",
       "      <td>Whampoa West</td>\n",
       "      <td>3-room</td>\n",
       "      <td>improved</td>\n",
       "      <td>68.0</td>\n",
       "      <td>yes</td>\n",
       "      <td>1972</td>\n",
       "      <td>1.320502</td>\n",
       "      <td>103.863341</td>\n",
       "      <td>0.0</td>\n",
       "      <td>bendemeer</td>\n",
       "      <td>kallang</td>\n",
       "      <td>central region</td>\n",
       "      <td>2100</td>\n",
       "    </tr>\n",
       "  </tbody>\n",
       "</table>\n",
       "</div>"
      ],
      "text/plain": [
       "  rent_approval_date             town block            street_name  flat_type  \\\n",
       "0            2021-09      jurong east   257  Jurong East Street 24     3 room   \n",
       "1            2022-05            bedok   119       bedok north road     4-room   \n",
       "2            2022-10        toa payoh   157     lorong 1 toa payoh     3-room   \n",
       "3            2021-08        pasir ris   250    Pasir Ris Street 21  executive   \n",
       "4            2022-11  kallang/whampoa    34           Whampoa West     3-room   \n",
       "\n",
       "       flat_model  floor_area_sqm furnished  lease_commence_date  latitude  \\\n",
       "0  new generation            67.0       yes                 1983  1.344518   \n",
       "1  new generation            92.0       yes                 1978  1.330186   \n",
       "2        improved            67.0       yes                 1971  1.332242   \n",
       "3       apartment           149.0       yes                 1993  1.370239   \n",
       "4        improved            68.0       yes                 1972  1.320502   \n",
       "\n",
       "    longitude  elevation            subzone planning_area          region  \\\n",
       "0  103.738630        0.0         yuhua east   jurong east     west region   \n",
       "1  103.938717        0.0        bedok north         bedok     east region   \n",
       "2  103.845643        0.0  toa payoh central     toa payoh  central region   \n",
       "3  103.962894        0.0    pasir ris drive     pasir ris     east region   \n",
       "4  103.863341        0.0          bendemeer       kallang  central region   \n",
       "\n",
       "   monthly_rent  \n",
       "0          1600  \n",
       "1          2250  \n",
       "2          1900  \n",
       "3          2850  \n",
       "4          2100  "
      ]
     },
     "execution_count": 23,
     "metadata": {},
     "output_type": "execute_result"
    }
   ],
   "source": [
    "df_train = pd.read_csv(\"train.csv\")\n",
    "print('Number of train records: {}'.format(len(df_train)))\n",
    "df_train.head()"
   ]
  },
  {
   "cell_type": "code",
   "execution_count": 3,
   "id": "4da1afce",
   "metadata": {
    "scrolled": false
   },
   "outputs": [
    {
     "name": "stdout",
     "output_type": "stream",
     "text": [
      "Number of test records: 30000\n"
     ]
    },
    {
     "data": {
      "text/html": [
       "<div>\n",
       "<style scoped>\n",
       "    .dataframe tbody tr th:only-of-type {\n",
       "        vertical-align: middle;\n",
       "    }\n",
       "\n",
       "    .dataframe tbody tr th {\n",
       "        vertical-align: top;\n",
       "    }\n",
       "\n",
       "    .dataframe thead th {\n",
       "        text-align: right;\n",
       "    }\n",
       "</style>\n",
       "<table border=\"1\" class=\"dataframe\">\n",
       "  <thead>\n",
       "    <tr style=\"text-align: right;\">\n",
       "      <th></th>\n",
       "      <th>rent_approval_date</th>\n",
       "      <th>town</th>\n",
       "      <th>block</th>\n",
       "      <th>street_name</th>\n",
       "      <th>flat_type</th>\n",
       "      <th>flat_model</th>\n",
       "      <th>floor_area_sqm</th>\n",
       "      <th>furnished</th>\n",
       "      <th>lease_commence_date</th>\n",
       "      <th>latitude</th>\n",
       "      <th>longitude</th>\n",
       "      <th>elevation</th>\n",
       "      <th>subzone</th>\n",
       "      <th>planning_area</th>\n",
       "      <th>region</th>\n",
       "    </tr>\n",
       "  </thead>\n",
       "  <tbody>\n",
       "    <tr>\n",
       "      <th>0</th>\n",
       "      <td>2023-01</td>\n",
       "      <td>hougang</td>\n",
       "      <td>245</td>\n",
       "      <td>hougang street 22</td>\n",
       "      <td>5-room</td>\n",
       "      <td>improved</td>\n",
       "      <td>121.0</td>\n",
       "      <td>yes</td>\n",
       "      <td>1984</td>\n",
       "      <td>1.358411</td>\n",
       "      <td>103.891722</td>\n",
       "      <td>0.0</td>\n",
       "      <td>lorong ah soo</td>\n",
       "      <td>hougang</td>\n",
       "      <td>north-east region</td>\n",
       "    </tr>\n",
       "    <tr>\n",
       "      <th>1</th>\n",
       "      <td>2022-09</td>\n",
       "      <td>sembawang</td>\n",
       "      <td>316</td>\n",
       "      <td>sembawang vista</td>\n",
       "      <td>4-room</td>\n",
       "      <td>model a</td>\n",
       "      <td>100.0</td>\n",
       "      <td>yes</td>\n",
       "      <td>1999</td>\n",
       "      <td>1.446343</td>\n",
       "      <td>103.820817</td>\n",
       "      <td>0.0</td>\n",
       "      <td>sembawang central</td>\n",
       "      <td>sembawang</td>\n",
       "      <td>north region</td>\n",
       "    </tr>\n",
       "    <tr>\n",
       "      <th>2</th>\n",
       "      <td>2023-07</td>\n",
       "      <td>clementi</td>\n",
       "      <td>708</td>\n",
       "      <td>Clementi West Street 2</td>\n",
       "      <td>4-room</td>\n",
       "      <td>new generation</td>\n",
       "      <td>91.0</td>\n",
       "      <td>yes</td>\n",
       "      <td>1980</td>\n",
       "      <td>1.305719</td>\n",
       "      <td>103.762168</td>\n",
       "      <td>0.0</td>\n",
       "      <td>clementi west</td>\n",
       "      <td>clementi</td>\n",
       "      <td>west region</td>\n",
       "    </tr>\n",
       "    <tr>\n",
       "      <th>3</th>\n",
       "      <td>2021-08</td>\n",
       "      <td>jurong east</td>\n",
       "      <td>351</td>\n",
       "      <td>Jurong East Street 31</td>\n",
       "      <td>3 room</td>\n",
       "      <td>model a</td>\n",
       "      <td>74.0</td>\n",
       "      <td>yes</td>\n",
       "      <td>1986</td>\n",
       "      <td>1.344832</td>\n",
       "      <td>103.730778</td>\n",
       "      <td>0.0</td>\n",
       "      <td>yuhua west</td>\n",
       "      <td>jurong east</td>\n",
       "      <td>west region</td>\n",
       "    </tr>\n",
       "    <tr>\n",
       "      <th>4</th>\n",
       "      <td>2022-03</td>\n",
       "      <td>jurong east</td>\n",
       "      <td>305</td>\n",
       "      <td>jurong east street 32</td>\n",
       "      <td>5-room</td>\n",
       "      <td>improved</td>\n",
       "      <td>121.0</td>\n",
       "      <td>yes</td>\n",
       "      <td>1983</td>\n",
       "      <td>1.345437</td>\n",
       "      <td>103.735241</td>\n",
       "      <td>0.0</td>\n",
       "      <td>yuhua west</td>\n",
       "      <td>jurong east</td>\n",
       "      <td>west region</td>\n",
       "    </tr>\n",
       "  </tbody>\n",
       "</table>\n",
       "</div>"
      ],
      "text/plain": [
       "  rent_approval_date         town block             street_name flat_type  \\\n",
       "0            2023-01      hougang   245       hougang street 22    5-room   \n",
       "1            2022-09    sembawang   316         sembawang vista    4-room   \n",
       "2            2023-07     clementi   708  Clementi West Street 2    4-room   \n",
       "3            2021-08  jurong east   351   Jurong East Street 31    3 room   \n",
       "4            2022-03  jurong east   305   jurong east street 32    5-room   \n",
       "\n",
       "       flat_model  floor_area_sqm furnished  lease_commence_date  latitude  \\\n",
       "0        improved           121.0       yes                 1984  1.358411   \n",
       "1         model a           100.0       yes                 1999  1.446343   \n",
       "2  new generation            91.0       yes                 1980  1.305719   \n",
       "3         model a            74.0       yes                 1986  1.344832   \n",
       "4        improved           121.0       yes                 1983  1.345437   \n",
       "\n",
       "    longitude  elevation            subzone planning_area             region  \n",
       "0  103.891722        0.0      lorong ah soo       hougang  north-east region  \n",
       "1  103.820817        0.0  sembawang central     sembawang       north region  \n",
       "2  103.762168        0.0      clementi west      clementi        west region  \n",
       "3  103.730778        0.0         yuhua west   jurong east        west region  \n",
       "4  103.735241        0.0         yuhua west   jurong east        west region  "
      ]
     },
     "execution_count": 3,
     "metadata": {},
     "output_type": "execute_result"
    }
   ],
   "source": [
    "df_test = pd.read_csv(\"test.csv\")\n",
    "print('Number of test records: {}'.format(len(df_test)))\n",
    "df_test.head()"
   ]
  },
  {
   "cell_type": "markdown",
   "id": "7fc3ba3d",
   "metadata": {},
   "source": [
    "# Visualization"
   ]
  },
  {
   "cell_type": "code",
   "execution_count": 4,
   "id": "a7e42389",
   "metadata": {},
   "outputs": [
    {
     "name": "stderr",
     "output_type": "stream",
     "text": [
      "<ipython-input-4-c6b19ea60e88>:10: UserWarning: FixedFormatter should only be used together with FixedLocator\n",
      "  p.set_yticklabels(ylabels)\n"
     ]
    },
    {
     "data": {
      "image/png": "[encoded data removed]",
      "text/plain": [
       "<Figure size 1080x504 with 1 Axes>"
      ]
     },
     "metadata": {
      "needs_background": "light"
     },
     "output_type": "display_data"
    }
   ],
   "source": [
    "import matplotlib.pyplot as plt\n",
    "import seaborn as sns\n",
    "# Violin plots for price distribution of each flat model\n",
    "\n",
    "fig = plt.figure(figsize=(15,7))\n",
    "p=sns.violinplot(x='flat_type', y='monthly_rent', data=df_train, width=1,\n",
    "                order=df_train.groupby('flat_type')['monthly_rent'].mean().sort_values().reset_index()['flat_type'].tolist())\n",
    "p.set_xticklabels(p.get_xticklabels(), rotation=30, ha='right'), p.set_xlabel('Flat Models', size=15)\n",
    "ylabels = ['{:,.0f}'.format(x) + 'K' for x in p.get_yticks()/1000]\n",
    "p.set_yticklabels(ylabels)\n",
    "p.set_ylabel('Monthly Rent SGD ($)', size=15)\n",
    "plt.show()"
   ]
  },
  {
   "cell_type": "code",
   "execution_count": 5,
   "id": "7f943b3a",
   "metadata": {},
   "outputs": [
    {
     "name": "stderr",
     "output_type": "stream",
     "text": [
      "<ipython-input-5-57aaeb52f4d9>:10: UserWarning: FixedFormatter should only be used together with FixedLocator\n",
      "  p.set_yticklabels(ylabels)\n"
     ]
    },
    {
     "data": {
      "image/png": "[encoded data removed]",
      "text/plain": [
       "<Figure size 1080x504 with 1 Axes>"
      ]
     },
     "metadata": {
      "needs_background": "light"
     },
     "output_type": "display_data"
    }
   ],
   "source": [
    "import matplotlib.pyplot as plt\n",
    "import seaborn as sns\n",
    "# Violin plots for price distribution of each flat model\n",
    "\n",
    "fig = plt.figure(figsize=(15,7))\n",
    "p=sns.violinplot(x='flat_model', y='monthly_rent', data=df_train, width=1,\n",
    "                order=df_train.groupby('flat_model')['monthly_rent'].mean().sort_values().reset_index()['flat_model'].tolist())\n",
    "p.set_xticklabels(p.get_xticklabels(), rotation=30, ha='right'), p.set_xlabel('Flat Models', size=15)\n",
    "ylabels = ['{:,.0f}'.format(x) + 'K' for x in p.get_yticks()/1000]\n",
    "p.set_yticklabels(ylabels)\n",
    "p.set_ylabel('Monthly Rent SGD ($)', size=15)\n",
    "plt.show()"
   ]
  },
  {
   "cell_type": "markdown",
   "id": "b66e83d5",
   "metadata": {},
   "source": [
    "## Observe some strange things"
   ]
  },
  {
   "cell_type": "code",
   "execution_count": 4,
   "id": "8bed1a2b",
   "metadata": {},
   "outputs": [
    {
     "data": {
      "text/plain": [
       "array(['2 room', '2-room'], dtype=object)"
      ]
     },
     "execution_count": 4,
     "metadata": {},
     "output_type": "execute_result"
    }
   ],
   "source": [
    "df_2_room = df_train.loc[df_train[\"flat_model\"]==\"2-room\"]\n",
    "df_2_room[\"flat_type\"].unique()"
   ]
  },
  {
   "cell_type": "code",
   "execution_count": 5,
   "id": "ae382ed4",
   "metadata": {},
   "outputs": [
    {
     "data": {
      "text/plain": [
       "array(['model a', 'improved', 'standard', '2-room', 'premium apartment'],\n",
       "      dtype=object)"
      ]
     },
     "execution_count": 5,
     "metadata": {},
     "output_type": "execute_result"
    }
   ],
   "source": [
    "df_reverse2 = df_train.loc[df_train[\"flat_type\"]==\"2-room\"]\n",
    "df_reverse2[\"flat_model\"].unique()"
   ]
  },
  {
   "cell_type": "markdown",
   "id": "8c09e762",
   "metadata": {},
   "source": [
    "# Useful functions for encoding"
   ]
  },
  {
   "cell_type": "markdown",
   "id": "54746dd1",
   "metadata": {},
   "source": [
    "## One-hot encoding"
   ]
  },
  {
   "cell_type": "code",
   "execution_count": 22,
   "id": "f505d234",
   "metadata": {},
   "outputs": [],
   "source": [
    "def one_hot_encode_column(df, column_name, order, status, rank = 0):\n",
    "    # Extract the specified column from the DataFrame\n",
    "    column = df[column_name]\n",
    "    \n",
    "    if status == \"train\":\n",
    "        # Get unique values in the column\n",
    "        unique_values = column.unique()\n",
    "\n",
    "        if rank != 0:\n",
    "            unique_values = df.groupby(column_name)['monthly_rent'].mean().sort_values().reset_index()[column_name].tolist()\n",
    "            \n",
    "    if status == \"test\":\n",
    "        unique_values = order\n",
    "    \n",
    "    # Create a new DataFrame with binary columns\n",
    "    binary_columns = pd.DataFrame(0, columns=unique_values, index=df.index)\n",
    "#     name_columns = [f\"{column_name}_{value}\" for value in unique_values]\n",
    "#     binary_columns = pd.DataFrame(0, columns=name_columns, index=df.index)\n",
    "    \n",
    "    # Set binary values based on one-hot encoding\n",
    "    for value in unique_values:\n",
    "#     for value in name_columns:\n",
    "        binary_columns.loc[column == value, value] = 1\n",
    "    \n",
    "    # Concatenate the binary columns into a single column with binary strings\n",
    "#     df[column_name] = binary_columns.apply(lambda row: ''.join(map(str, row)), axis=1)\n",
    "    df = pd.concat([df, binary_columns], axis=1)\n",
    "    df.drop(columns=[column_name], inplace=True)\n",
    "    #Rename column\n",
    "    for name in unique_values:\n",
    "        df = df.rename(columns={name: f\"{column_name}_{name}\"})\n",
    "    \n",
    "    \n",
    "    return df, unique_values\n",
    "\n",
    "# Example usage:\n",
    "# Assuming you have a DataFrame df and you want to one-hot encode the \"Category\" column\n",
    "# df = one_hot_encode_column(df, \"Category\")"
   ]
  },
  {
   "cell_type": "markdown",
   "id": "80ec813d",
   "metadata": {},
   "source": [
    "## Rank encoding"
   ]
  },
  {
   "cell_type": "code",
   "execution_count": 7,
   "id": "747f737a",
   "metadata": {},
   "outputs": [],
   "source": [
    "def rank_encode_column(df, column_name, order, status, rank = 0):\n",
    "    # Extract the specified column from the DataFrame\n",
    "    column = df[column_name]\n",
    "    \n",
    "    if status == \"train\":\n",
    "        # Get unique values in the column\n",
    "        unique_values = column.unique()\n",
    "\n",
    "        if rank != 0:\n",
    "            unique_values = df.groupby(column_name)['monthly_rent'].mean().sort_values().reset_index()[column_name].tolist()\n",
    "            \n",
    "    if status == \"test\":\n",
    "        unique_values = order\n",
    "        \n",
    "    value_to_rank = {value: rank for rank, value in enumerate(unique_values, 1)}\n",
    "    \n",
    "    # Create a new column with rank values\n",
    "    df[column_name] = column.map(value_to_rank)\n",
    "    \n",
    "    return df, unique_values\n",
    "\n",
    "# Example usage:\n",
    "# Assuming you have a DataFrame df and you want to rank encode the \"Category\" column\n",
    "# df = rank_encode_column(df, \"Category\")"
   ]
  },
  {
   "cell_type": "code",
   "execution_count": 24,
   "id": "eb9eda13",
   "metadata": {},
   "outputs": [],
   "source": [
    "df_train, order_flat_type = one_hot_encode_column(df_train, 'flat_type',1,\"train\",1)"
   ]
  },
  {
   "cell_type": "code",
   "execution_count": 25,
   "id": "3b73e2e8",
   "metadata": {},
   "outputs": [],
   "source": [
    "df_train, order_flat_model = rank_encode_column(df_train, 'flat_model',1,\"train\",\"hi\")"
   ]
  },
  {
   "cell_type": "code",
   "execution_count": 26,
   "id": "439481ba",
   "metadata": {
    "scrolled": true
   },
   "outputs": [
    {
     "data": {
      "text/html": [
       "<div>\n",
       "<style scoped>\n",
       "    .dataframe tbody tr th:only-of-type {\n",
       "        vertical-align: middle;\n",
       "    }\n",
       "\n",
       "    .dataframe tbody tr th {\n",
       "        vertical-align: top;\n",
       "    }\n",
       "\n",
       "    .dataframe thead th {\n",
       "        text-align: right;\n",
       "    }\n",
       "</style>\n",
       "<table border=\"1\" class=\"dataframe\">\n",
       "  <thead>\n",
       "    <tr style=\"text-align: right;\">\n",
       "      <th></th>\n",
       "      <th>rent_approval_date</th>\n",
       "      <th>town</th>\n",
       "      <th>block</th>\n",
       "      <th>street_name</th>\n",
       "      <th>flat_model</th>\n",
       "      <th>floor_area_sqm</th>\n",
       "      <th>furnished</th>\n",
       "      <th>lease_commence_date</th>\n",
       "      <th>latitude</th>\n",
       "      <th>longitude</th>\n",
       "      <th>...</th>\n",
       "      <th>monthly_rent</th>\n",
       "      <th>flat_type_2 room</th>\n",
       "      <th>flat_type_3 room</th>\n",
       "      <th>flat_type_2-room</th>\n",
       "      <th>flat_type_4 room</th>\n",
       "      <th>flat_type_5 room</th>\n",
       "      <th>flat_type_3-room</th>\n",
       "      <th>flat_type_executive</th>\n",
       "      <th>flat_type_4-room</th>\n",
       "      <th>flat_type_5-room</th>\n",
       "    </tr>\n",
       "  </thead>\n",
       "  <tbody>\n",
       "    <tr>\n",
       "      <th>0</th>\n",
       "      <td>2021-09</td>\n",
       "      <td>jurong east</td>\n",
       "      <td>257</td>\n",
       "      <td>Jurong East Street 24</td>\n",
       "      <td>2</td>\n",
       "      <td>67.0</td>\n",
       "      <td>yes</td>\n",
       "      <td>1983</td>\n",
       "      <td>1.344518</td>\n",
       "      <td>103.738630</td>\n",
       "      <td>...</td>\n",
       "      <td>1600</td>\n",
       "      <td>0</td>\n",
       "      <td>1</td>\n",
       "      <td>0</td>\n",
       "      <td>0</td>\n",
       "      <td>0</td>\n",
       "      <td>0</td>\n",
       "      <td>0</td>\n",
       "      <td>0</td>\n",
       "      <td>0</td>\n",
       "    </tr>\n",
       "    <tr>\n",
       "      <th>1</th>\n",
       "      <td>2022-05</td>\n",
       "      <td>bedok</td>\n",
       "      <td>119</td>\n",
       "      <td>bedok north road</td>\n",
       "      <td>2</td>\n",
       "      <td>92.0</td>\n",
       "      <td>yes</td>\n",
       "      <td>1978</td>\n",
       "      <td>1.330186</td>\n",
       "      <td>103.938717</td>\n",
       "      <td>...</td>\n",
       "      <td>2250</td>\n",
       "      <td>0</td>\n",
       "      <td>0</td>\n",
       "      <td>0</td>\n",
       "      <td>0</td>\n",
       "      <td>0</td>\n",
       "      <td>0</td>\n",
       "      <td>0</td>\n",
       "      <td>1</td>\n",
       "      <td>0</td>\n",
       "    </tr>\n",
       "    <tr>\n",
       "      <th>2</th>\n",
       "      <td>2022-10</td>\n",
       "      <td>toa payoh</td>\n",
       "      <td>157</td>\n",
       "      <td>lorong 1 toa payoh</td>\n",
       "      <td>7</td>\n",
       "      <td>67.0</td>\n",
       "      <td>yes</td>\n",
       "      <td>1971</td>\n",
       "      <td>1.332242</td>\n",
       "      <td>103.845643</td>\n",
       "      <td>...</td>\n",
       "      <td>1900</td>\n",
       "      <td>0</td>\n",
       "      <td>0</td>\n",
       "      <td>0</td>\n",
       "      <td>0</td>\n",
       "      <td>0</td>\n",
       "      <td>1</td>\n",
       "      <td>0</td>\n",
       "      <td>0</td>\n",
       "      <td>0</td>\n",
       "    </tr>\n",
       "    <tr>\n",
       "      <th>3</th>\n",
       "      <td>2021-08</td>\n",
       "      <td>pasir ris</td>\n",
       "      <td>250</td>\n",
       "      <td>Pasir Ris Street 21</td>\n",
       "      <td>9</td>\n",
       "      <td>149.0</td>\n",
       "      <td>yes</td>\n",
       "      <td>1993</td>\n",
       "      <td>1.370239</td>\n",
       "      <td>103.962894</td>\n",
       "      <td>...</td>\n",
       "      <td>2850</td>\n",
       "      <td>0</td>\n",
       "      <td>0</td>\n",
       "      <td>0</td>\n",
       "      <td>0</td>\n",
       "      <td>0</td>\n",
       "      <td>0</td>\n",
       "      <td>1</td>\n",
       "      <td>0</td>\n",
       "      <td>0</td>\n",
       "    </tr>\n",
       "    <tr>\n",
       "      <th>4</th>\n",
       "      <td>2022-11</td>\n",
       "      <td>kallang/whampoa</td>\n",
       "      <td>34</td>\n",
       "      <td>Whampoa West</td>\n",
       "      <td>7</td>\n",
       "      <td>68.0</td>\n",
       "      <td>yes</td>\n",
       "      <td>1972</td>\n",
       "      <td>1.320502</td>\n",
       "      <td>103.863341</td>\n",
       "      <td>...</td>\n",
       "      <td>2100</td>\n",
       "      <td>0</td>\n",
       "      <td>0</td>\n",
       "      <td>0</td>\n",
       "      <td>0</td>\n",
       "      <td>0</td>\n",
       "      <td>1</td>\n",
       "      <td>0</td>\n",
       "      <td>0</td>\n",
       "      <td>0</td>\n",
       "    </tr>\n",
       "  </tbody>\n",
       "</table>\n",
       "<p>5 rows × 24 columns</p>\n",
       "</div>"
      ],
      "text/plain": [
       "  rent_approval_date             town block            street_name  \\\n",
       "0            2021-09      jurong east   257  Jurong East Street 24   \n",
       "1            2022-05            bedok   119       bedok north road   \n",
       "2            2022-10        toa payoh   157     lorong 1 toa payoh   \n",
       "3            2021-08        pasir ris   250    Pasir Ris Street 21   \n",
       "4            2022-11  kallang/whampoa    34           Whampoa West   \n",
       "\n",
       "   flat_model  floor_area_sqm furnished  lease_commence_date  latitude  \\\n",
       "0           2            67.0       yes                 1983  1.344518   \n",
       "1           2            92.0       yes                 1978  1.330186   \n",
       "2           7            67.0       yes                 1971  1.332242   \n",
       "3           9           149.0       yes                 1993  1.370239   \n",
       "4           7            68.0       yes                 1972  1.320502   \n",
       "\n",
       "    longitude  ...  monthly_rent flat_type_2 room flat_type_3 room  \\\n",
       "0  103.738630  ...          1600                0                1   \n",
       "1  103.938717  ...          2250                0                0   \n",
       "2  103.845643  ...          1900                0                0   \n",
       "3  103.962894  ...          2850                0                0   \n",
       "4  103.863341  ...          2100                0                0   \n",
       "\n",
       "  flat_type_2-room  flat_type_4 room  flat_type_5 room  flat_type_3-room  \\\n",
       "0                0                 0                 0                 0   \n",
       "1                0                 0                 0                 0   \n",
       "2                0                 0                 0                 1   \n",
       "3                0                 0                 0                 0   \n",
       "4                0                 0                 0                 1   \n",
       "\n",
       "   flat_type_executive  flat_type_4-room  flat_type_5-room  \n",
       "0                    0                 0                 0  \n",
       "1                    0                 1                 0  \n",
       "2                    0                 0                 0  \n",
       "3                    1                 0                 0  \n",
       "4                    0                 0                 0  \n",
       "\n",
       "[5 rows x 24 columns]"
      ]
     },
     "execution_count": 26,
     "metadata": {},
     "output_type": "execute_result"
    }
   ],
   "source": [
    "df_train.head()"
   ]
  },
  {
   "cell_type": "code",
   "execution_count": 11,
   "id": "9f027757",
   "metadata": {},
   "outputs": [
    {
     "name": "stdout",
     "output_type": "stream",
     "text": [
      "['2 room', '3 room', '2-room', '4 room', '5 room', '3-room', 'executive', '4-room', '5-room']\n"
     ]
    }
   ],
   "source": [
    "print(order_flat_type)"
   ]
  },
  {
   "cell_type": "markdown",
   "id": "522cae73",
   "metadata": {},
   "source": [
    "# Random Forest with SKLearn"
   ]
  },
  {
   "cell_type": "markdown",
   "id": "11898807",
   "metadata": {},
   "source": [
    "### Use RandomForestRegressor from sklearn"
   ]
  },
  {
   "cell_type": "code",
   "execution_count": 13,
   "id": "0a8347ac",
   "metadata": {},
   "outputs": [],
   "source": [
    "# form input and output\n",
    "x = df_train[['flat_type','flat_model']].copy()\n",
    "# x = df_train.iloc[:, : -1]\n",
    "# y = df_train.iloc[:, -1:]\n",
    "y = df_train.iloc[:, -1:].values.flatten()"
   ]
  },
  {
   "cell_type": "code",
   "execution_count": 14,
   "id": "92fa7371",
   "metadata": {},
   "outputs": [
    {
     "name": "stdout",
     "output_type": "stream",
     "text": [
      "[1600 2250 1900 ... 2250 4700 2850]\n"
     ]
    }
   ],
   "source": [
    "print(y)"
   ]
  },
  {
   "cell_type": "code",
   "execution_count": 15,
   "id": "74337d36",
   "metadata": {},
   "outputs": [
    {
     "data": {
      "text/plain": [
       "RandomForestRegressor(random_state=0)"
      ]
     },
     "execution_count": 15,
     "metadata": {},
     "output_type": "execute_result"
    }
   ],
   "source": [
    "#Assume now all the values are numerical\n",
    "# create regressor object\n",
    "regressor = RandomForestRegressor(n_estimators=100,\n",
    "                                  random_state=0)\n",
    " \n",
    "# fit the regressor with x and y data\n",
    "regressor.fit(x, y)"
   ]
  },
  {
   "cell_type": "code",
   "execution_count": 16,
   "id": "9d489443",
   "metadata": {},
   "outputs": [],
   "source": [
    "df_test,_ = one_hot_encode_column(df_test, 'flat_type', order_flat_type, \"test\")\n",
    "df_test,_ = rank_encode_column(df_test, 'flat_model', order_flat_model, \"test\")\n",
    "X = df_test[['flat_type','flat_model']].copy()"
   ]
  },
  {
   "cell_type": "code",
   "execution_count": 17,
   "id": "3faf065e",
   "metadata": {},
   "outputs": [],
   "source": [
    "# test the output by changing values\n",
    "Y_pred = regressor.predict(X)"
   ]
  },
  {
   "cell_type": "code",
   "execution_count": 18,
   "id": "d7fe34a6",
   "metadata": {},
   "outputs": [
    {
     "data": {
      "text/html": [
       "<div>\n",
       "<style scoped>\n",
       "    .dataframe tbody tr th:only-of-type {\n",
       "        vertical-align: middle;\n",
       "    }\n",
       "\n",
       "    .dataframe tbody tr th {\n",
       "        vertical-align: top;\n",
       "    }\n",
       "\n",
       "    .dataframe thead th {\n",
       "        text-align: right;\n",
       "    }\n",
       "</style>\n",
       "<table border=\"1\" class=\"dataframe\">\n",
       "  <thead>\n",
       "    <tr style=\"text-align: right;\">\n",
       "      <th></th>\n",
       "      <th>rent_approval_date</th>\n",
       "      <th>town</th>\n",
       "      <th>block</th>\n",
       "      <th>street_name</th>\n",
       "      <th>flat_type</th>\n",
       "      <th>flat_model</th>\n",
       "      <th>floor_area_sqm</th>\n",
       "      <th>lease_commence_date</th>\n",
       "      <th>latitude</th>\n",
       "      <th>longitude</th>\n",
       "      <th>subzone</th>\n",
       "      <th>planning_area</th>\n",
       "      <th>region</th>\n",
       "      <th>Predict_Price</th>\n",
       "    </tr>\n",
       "  </thead>\n",
       "  <tbody>\n",
       "    <tr>\n",
       "      <th>0</th>\n",
       "      <td>2023-01</td>\n",
       "      <td>hougang</td>\n",
       "      <td>245</td>\n",
       "      <td>hougang street 22</td>\n",
       "      <td>00010</td>\n",
       "      <td>7</td>\n",
       "      <td>121.0</td>\n",
       "      <td>1984</td>\n",
       "      <td>1.358411</td>\n",
       "      <td>103.891722</td>\n",
       "      <td>lorong ah soo</td>\n",
       "      <td>hougang</td>\n",
       "      <td>north-east region</td>\n",
       "      <td>2810.675488</td>\n",
       "    </tr>\n",
       "    <tr>\n",
       "      <th>1</th>\n",
       "      <td>2022-09</td>\n",
       "      <td>sembawang</td>\n",
       "      <td>316</td>\n",
       "      <td>sembawang vista</td>\n",
       "      <td>00100</td>\n",
       "      <td>6</td>\n",
       "      <td>100.0</td>\n",
       "      <td>1999</td>\n",
       "      <td>1.446343</td>\n",
       "      <td>103.820817</td>\n",
       "      <td>sembawang central</td>\n",
       "      <td>sembawang</td>\n",
       "      <td>north region</td>\n",
       "      <td>2703.920330</td>\n",
       "    </tr>\n",
       "    <tr>\n",
       "      <th>2</th>\n",
       "      <td>2023-07</td>\n",
       "      <td>clementi</td>\n",
       "      <td>708</td>\n",
       "      <td>Clementi West Street 2</td>\n",
       "      <td>00100</td>\n",
       "      <td>2</td>\n",
       "      <td>91.0</td>\n",
       "      <td>1980</td>\n",
       "      <td>1.305719</td>\n",
       "      <td>103.762168</td>\n",
       "      <td>clementi west</td>\n",
       "      <td>clementi</td>\n",
       "      <td>west region</td>\n",
       "      <td>2661.005444</td>\n",
       "    </tr>\n",
       "    <tr>\n",
       "      <th>3</th>\n",
       "      <td>2021-08</td>\n",
       "      <td>jurong east</td>\n",
       "      <td>351</td>\n",
       "      <td>Jurong East Street 31</td>\n",
       "      <td>01000</td>\n",
       "      <td>6</td>\n",
       "      <td>74.0</td>\n",
       "      <td>1986</td>\n",
       "      <td>1.344832</td>\n",
       "      <td>103.730778</td>\n",
       "      <td>yuhua west</td>\n",
       "      <td>jurong east</td>\n",
       "      <td>west region</td>\n",
       "      <td>2322.995337</td>\n",
       "    </tr>\n",
       "    <tr>\n",
       "      <th>4</th>\n",
       "      <td>2022-03</td>\n",
       "      <td>jurong east</td>\n",
       "      <td>305</td>\n",
       "      <td>jurong east street 32</td>\n",
       "      <td>00010</td>\n",
       "      <td>7</td>\n",
       "      <td>121.0</td>\n",
       "      <td>1983</td>\n",
       "      <td>1.345437</td>\n",
       "      <td>103.735241</td>\n",
       "      <td>yuhua west</td>\n",
       "      <td>jurong east</td>\n",
       "      <td>west region</td>\n",
       "      <td>2810.675488</td>\n",
       "    </tr>\n",
       "  </tbody>\n",
       "</table>\n",
       "</div>"
      ],
      "text/plain": [
       "  rent_approval_date         town block             street_name flat_type  \\\n",
       "0            2023-01      hougang   245       hougang street 22     00010   \n",
       "1            2022-09    sembawang   316         sembawang vista     00100   \n",
       "2            2023-07     clementi   708  Clementi West Street 2     00100   \n",
       "3            2021-08  jurong east   351   Jurong East Street 31     01000   \n",
       "4            2022-03  jurong east   305   jurong east street 32     00010   \n",
       "\n",
       "   flat_model  floor_area_sqm  lease_commence_date  latitude   longitude  \\\n",
       "0           7           121.0                 1984  1.358411  103.891722   \n",
       "1           6           100.0                 1999  1.446343  103.820817   \n",
       "2           2            91.0                 1980  1.305719  103.762168   \n",
       "3           6            74.0                 1986  1.344832  103.730778   \n",
       "4           7           121.0                 1983  1.345437  103.735241   \n",
       "\n",
       "             subzone planning_area             region  Predict_Price  \n",
       "0      lorong ah soo       hougang  north-east region    2810.675488  \n",
       "1  sembawang central     sembawang       north region    2703.920330  \n",
       "2      clementi west      clementi        west region    2661.005444  \n",
       "3         yuhua west   jurong east        west region    2322.995337  \n",
       "4         yuhua west   jurong east        west region    2810.675488  "
      ]
     },
     "execution_count": 18,
     "metadata": {},
     "output_type": "execute_result"
    }
   ],
   "source": [
    "df_test['Predict_Price'] = Y_pred.tolist()\n",
    "df_test.head()"
   ]
  },
  {
   "cell_type": "markdown",
   "id": "7d7ddb90",
   "metadata": {},
   "source": [
    "# Reference\n",
    "### flat_type\n",
    "https://www.hdb.gov.sg/residential/buying-a-flat/finding-a-flat/types-of-flats\n",
    "### flat_model\n",
    "https://www.teoalida.com/singapore/hdbflattypes/"
   ]
  },
  {
   "cell_type": "code",
   "execution_count": null,
   "id": "e1bd4745",
   "metadata": {},
   "outputs": [],
   "source": []
  }
 ],
 "metadata": {
  "kernelspec": {
   "display_name": "Python 3",
   "language": "python",
   "name": "python3"
  },
  "language_info": {
   "codemirror_mode": {
    "name": "ipython",
    "version": 3
   },
   "file_extension": ".py",
   "mimetype": "text/x-python",
   "name": "python",
   "nbconvert_exporter": "python",
   "pygments_lexer": "ipython3",
   "version": "3.8.8"
  }
 },
 "nbformat": 4,
 "nbformat_minor": 5
}
