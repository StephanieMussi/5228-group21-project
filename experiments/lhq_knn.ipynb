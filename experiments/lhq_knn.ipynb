{
 "cells": [
  {
   "cell_type": "code",
   "execution_count": 34,
   "metadata": {},
   "outputs": [],
   "source": [
    "import pandas as pd\n",
    "import numpy as np\n",
    "import matplotlib.pyplot as plt\n",
    "from sklearn.neighbors import KNeighborsRegressor\n",
    "from sklearn.preprocessing import StandardScaler\n",
    "from sklearn.model_selection import cross_val_score\n",
    "from sklearn.decomposition import PCA\n",
    "from sklearn.pipeline import Pipeline, make_pipeline"
   ]
  },
  {
   "cell_type": "markdown",
   "metadata": {},
   "source": [
    "### Read train and test data"
   ]
  },
  {
   "cell_type": "code",
   "execution_count": 35,
   "metadata": {},
   "outputs": [
    {
     "name": "stdout",
     "output_type": "stream",
     "text": [
      "Number of train records: 60000\n"
     ]
    },
    {
     "data": {
      "text/html": [
       "<div>\n",
       "<style scoped>\n",
       "    .dataframe tbody tr th:only-of-type {\n",
       "        vertical-align: middle;\n",
       "    }\n",
       "\n",
       "    .dataframe tbody tr th {\n",
       "        vertical-align: top;\n",
       "    }\n",
       "\n",
       "    .dataframe thead th {\n",
       "        text-align: right;\n",
       "    }\n",
       "</style>\n",
       "<table border=\"1\" class=\"dataframe\">\n",
       "  <thead>\n",
       "    <tr style=\"text-align: right;\">\n",
       "      <th></th>\n",
       "      <th>rent_approval_date</th>\n",
       "      <th>town_0</th>\n",
       "      <th>town_1</th>\n",
       "      <th>town_2</th>\n",
       "      <th>town_3</th>\n",
       "      <th>town_4</th>\n",
       "      <th>block</th>\n",
       "      <th>street_name</th>\n",
       "      <th>flat_model</th>\n",
       "      <th>floor_area_sqm</th>\n",
       "      <th>...</th>\n",
       "      <th>flat_type_3-room</th>\n",
       "      <th>flat_type_4-room</th>\n",
       "      <th>flat_type_executive</th>\n",
       "      <th>flat_type_5-room</th>\n",
       "      <th>flat_type_2-room</th>\n",
       "      <th>central region</th>\n",
       "      <th>east region</th>\n",
       "      <th>north region</th>\n",
       "      <th>north-east region</th>\n",
       "      <th>west region</th>\n",
       "    </tr>\n",
       "  </thead>\n",
       "  <tbody>\n",
       "    <tr>\n",
       "      <th>0</th>\n",
       "      <td>0.038835</td>\n",
       "      <td>0</td>\n",
       "      <td>0</td>\n",
       "      <td>0</td>\n",
       "      <td>0</td>\n",
       "      <td>1</td>\n",
       "      <td>2461.419769</td>\n",
       "      <td>2334.161163</td>\n",
       "      <td>2</td>\n",
       "      <td>67.0</td>\n",
       "      <td>...</td>\n",
       "      <td>1</td>\n",
       "      <td>0</td>\n",
       "      <td>0</td>\n",
       "      <td>0</td>\n",
       "      <td>0</td>\n",
       "      <td>0</td>\n",
       "      <td>0</td>\n",
       "      <td>0</td>\n",
       "      <td>0</td>\n",
       "      <td>1</td>\n",
       "    </tr>\n",
       "    <tr>\n",
       "      <th>1</th>\n",
       "      <td>0.504854</td>\n",
       "      <td>0</td>\n",
       "      <td>0</td>\n",
       "      <td>0</td>\n",
       "      <td>1</td>\n",
       "      <td>0</td>\n",
       "      <td>2371.483467</td>\n",
       "      <td>2341.480947</td>\n",
       "      <td>2</td>\n",
       "      <td>92.0</td>\n",
       "      <td>...</td>\n",
       "      <td>0</td>\n",
       "      <td>1</td>\n",
       "      <td>0</td>\n",
       "      <td>0</td>\n",
       "      <td>0</td>\n",
       "      <td>0</td>\n",
       "      <td>1</td>\n",
       "      <td>0</td>\n",
       "      <td>0</td>\n",
       "      <td>0</td>\n",
       "    </tr>\n",
       "    <tr>\n",
       "      <th>2</th>\n",
       "      <td>0.529126</td>\n",
       "      <td>0</td>\n",
       "      <td>0</td>\n",
       "      <td>0</td>\n",
       "      <td>1</td>\n",
       "      <td>1</td>\n",
       "      <td>2465.059892</td>\n",
       "      <td>2429.073831</td>\n",
       "      <td>7</td>\n",
       "      <td>67.0</td>\n",
       "      <td>...</td>\n",
       "      <td>1</td>\n",
       "      <td>0</td>\n",
       "      <td>0</td>\n",
       "      <td>0</td>\n",
       "      <td>0</td>\n",
       "      <td>1</td>\n",
       "      <td>0</td>\n",
       "      <td>0</td>\n",
       "      <td>0</td>\n",
       "      <td>0</td>\n",
       "    </tr>\n",
       "    <tr>\n",
       "      <th>3</th>\n",
       "      <td>0.033981</td>\n",
       "      <td>0</td>\n",
       "      <td>0</td>\n",
       "      <td>1</td>\n",
       "      <td>0</td>\n",
       "      <td>0</td>\n",
       "      <td>2419.540115</td>\n",
       "      <td>2635.040637</td>\n",
       "      <td>9</td>\n",
       "      <td>149.0</td>\n",
       "      <td>...</td>\n",
       "      <td>0</td>\n",
       "      <td>0</td>\n",
       "      <td>1</td>\n",
       "      <td>0</td>\n",
       "      <td>0</td>\n",
       "      <td>0</td>\n",
       "      <td>1</td>\n",
       "      <td>0</td>\n",
       "      <td>0</td>\n",
       "      <td>0</td>\n",
       "    </tr>\n",
       "    <tr>\n",
       "      <th>4</th>\n",
       "      <td>0.533981</td>\n",
       "      <td>0</td>\n",
       "      <td>0</td>\n",
       "      <td>1</td>\n",
       "      <td>0</td>\n",
       "      <td>1</td>\n",
       "      <td>2479.255239</td>\n",
       "      <td>2173.943626</td>\n",
       "      <td>7</td>\n",
       "      <td>68.0</td>\n",
       "      <td>...</td>\n",
       "      <td>1</td>\n",
       "      <td>0</td>\n",
       "      <td>0</td>\n",
       "      <td>0</td>\n",
       "      <td>0</td>\n",
       "      <td>1</td>\n",
       "      <td>0</td>\n",
       "      <td>0</td>\n",
       "      <td>0</td>\n",
       "      <td>0</td>\n",
       "    </tr>\n",
       "  </tbody>\n",
       "</table>\n",
       "<p>5 rows × 38 columns</p>\n",
       "</div>"
      ],
      "text/plain": [
       "   rent_approval_date  town_0  town_1  town_2  town_3  town_4        block  \\\n",
       "0            0.038835       0       0       0       0       1  2461.419769   \n",
       "1            0.504854       0       0       0       1       0  2371.483467   \n",
       "2            0.529126       0       0       0       1       1  2465.059892   \n",
       "3            0.033981       0       0       1       0       0  2419.540115   \n",
       "4            0.533981       0       0       1       0       1  2479.255239   \n",
       "\n",
       "   street_name  flat_model  floor_area_sqm  ...  flat_type_3-room  \\\n",
       "0  2334.161163           2            67.0  ...                 1   \n",
       "1  2341.480947           2            92.0  ...                 0   \n",
       "2  2429.073831           7            67.0  ...                 1   \n",
       "3  2635.040637           9           149.0  ...                 0   \n",
       "4  2173.943626           7            68.0  ...                 1   \n",
       "\n",
       "   flat_type_4-room  flat_type_executive  flat_type_5-room  flat_type_2-room  \\\n",
       "0                 0                    0                 0                 0   \n",
       "1                 1                    0                 0                 0   \n",
       "2                 0                    0                 0                 0   \n",
       "3                 0                    1                 0                 0   \n",
       "4                 0                    0                 0                 0   \n",
       "\n",
       "   central region  east region  north region  north-east region  west region  \n",
       "0               0            0             0                  0            1  \n",
       "1               0            1             0                  0            0  \n",
       "2               1            0             0                  0            0  \n",
       "3               0            1             0                  0            0  \n",
       "4               1            0             0                  0            0  \n",
       "\n",
       "[5 rows x 38 columns]"
      ]
     },
     "execution_count": 35,
     "metadata": {},
     "output_type": "execute_result"
    }
   ],
   "source": [
    "df_train = pd.read_csv(\"../data/train_new.csv\")\n",
    "print('Number of train records: {}'.format(len(df_train)))\n",
    "df_train.head()"
   ]
  },
  {
   "cell_type": "code",
   "execution_count": 36,
   "metadata": {},
   "outputs": [
    {
     "name": "stdout",
     "output_type": "stream",
     "text": [
      "Number of test records: 30000\n"
     ]
    },
    {
     "data": {
      "text/html": [
       "<div>\n",
       "<style scoped>\n",
       "    .dataframe tbody tr th:only-of-type {\n",
       "        vertical-align: middle;\n",
       "    }\n",
       "\n",
       "    .dataframe tbody tr th {\n",
       "        vertical-align: top;\n",
       "    }\n",
       "\n",
       "    .dataframe thead th {\n",
       "        text-align: right;\n",
       "    }\n",
       "</style>\n",
       "<table border=\"1\" class=\"dataframe\">\n",
       "  <thead>\n",
       "    <tr style=\"text-align: right;\">\n",
       "      <th></th>\n",
       "      <th>rent_approval_date</th>\n",
       "      <th>town_0</th>\n",
       "      <th>town_1</th>\n",
       "      <th>town_2</th>\n",
       "      <th>town_3</th>\n",
       "      <th>town_4</th>\n",
       "      <th>block</th>\n",
       "      <th>street_name</th>\n",
       "      <th>flat_model</th>\n",
       "      <th>floor_area_sqm</th>\n",
       "      <th>...</th>\n",
       "      <th>flat_type_3-room</th>\n",
       "      <th>flat_type_4-room</th>\n",
       "      <th>flat_type_executive</th>\n",
       "      <th>flat_type_5-room</th>\n",
       "      <th>flat_type_2-room</th>\n",
       "      <th>central region</th>\n",
       "      <th>east region</th>\n",
       "      <th>north region</th>\n",
       "      <th>north-east region</th>\n",
       "      <th>west region</th>\n",
       "    </tr>\n",
       "  </thead>\n",
       "  <tbody>\n",
       "    <tr>\n",
       "      <th>0</th>\n",
       "      <td>0.970874</td>\n",
       "      <td>1</td>\n",
       "      <td>0</td>\n",
       "      <td>1</td>\n",
       "      <td>1</td>\n",
       "      <td>1</td>\n",
       "      <td>2624.520690</td>\n",
       "      <td>2379.499974</td>\n",
       "      <td>7</td>\n",
       "      <td>121.0</td>\n",
       "      <td>...</td>\n",
       "      <td>0</td>\n",
       "      <td>0</td>\n",
       "      <td>0</td>\n",
       "      <td>1</td>\n",
       "      <td>0</td>\n",
       "      <td>0</td>\n",
       "      <td>0</td>\n",
       "      <td>0</td>\n",
       "      <td>1</td>\n",
       "      <td>0</td>\n",
       "    </tr>\n",
       "    <tr>\n",
       "      <th>1</th>\n",
       "      <td>0.524272</td>\n",
       "      <td>0</td>\n",
       "      <td>1</td>\n",
       "      <td>1</td>\n",
       "      <td>1</td>\n",
       "      <td>0</td>\n",
       "      <td>2524.058532</td>\n",
       "      <td>2615.882473</td>\n",
       "      <td>6</td>\n",
       "      <td>100.0</td>\n",
       "      <td>...</td>\n",
       "      <td>0</td>\n",
       "      <td>1</td>\n",
       "      <td>0</td>\n",
       "      <td>0</td>\n",
       "      <td>0</td>\n",
       "      <td>0</td>\n",
       "      <td>0</td>\n",
       "      <td>1</td>\n",
       "      <td>0</td>\n",
       "      <td>0</td>\n",
       "    </tr>\n",
       "    <tr>\n",
       "      <th>2</th>\n",
       "      <td>1.000000</td>\n",
       "      <td>0</td>\n",
       "      <td>1</td>\n",
       "      <td>1</td>\n",
       "      <td>0</td>\n",
       "      <td>0</td>\n",
       "      <td>2696.577167</td>\n",
       "      <td>2567.505982</td>\n",
       "      <td>2</td>\n",
       "      <td>91.0</td>\n",
       "      <td>...</td>\n",
       "      <td>0</td>\n",
       "      <td>1</td>\n",
       "      <td>0</td>\n",
       "      <td>0</td>\n",
       "      <td>0</td>\n",
       "      <td>0</td>\n",
       "      <td>0</td>\n",
       "      <td>0</td>\n",
       "      <td>0</td>\n",
       "      <td>1</td>\n",
       "    </tr>\n",
       "    <tr>\n",
       "      <th>3</th>\n",
       "      <td>0.033981</td>\n",
       "      <td>0</td>\n",
       "      <td>0</td>\n",
       "      <td>0</td>\n",
       "      <td>0</td>\n",
       "      <td>1</td>\n",
       "      <td>2515.834726</td>\n",
       "      <td>2821.948226</td>\n",
       "      <td>6</td>\n",
       "      <td>74.0</td>\n",
       "      <td>...</td>\n",
       "      <td>1</td>\n",
       "      <td>0</td>\n",
       "      <td>0</td>\n",
       "      <td>0</td>\n",
       "      <td>0</td>\n",
       "      <td>0</td>\n",
       "      <td>0</td>\n",
       "      <td>0</td>\n",
       "      <td>0</td>\n",
       "      <td>1</td>\n",
       "    </tr>\n",
       "    <tr>\n",
       "      <th>4</th>\n",
       "      <td>0.495146</td>\n",
       "      <td>0</td>\n",
       "      <td>0</td>\n",
       "      <td>0</td>\n",
       "      <td>0</td>\n",
       "      <td>1</td>\n",
       "      <td>2609.989756</td>\n",
       "      <td>2282.274343</td>\n",
       "      <td>7</td>\n",
       "      <td>121.0</td>\n",
       "      <td>...</td>\n",
       "      <td>0</td>\n",
       "      <td>0</td>\n",
       "      <td>0</td>\n",
       "      <td>1</td>\n",
       "      <td>0</td>\n",
       "      <td>0</td>\n",
       "      <td>0</td>\n",
       "      <td>0</td>\n",
       "      <td>0</td>\n",
       "      <td>1</td>\n",
       "    </tr>\n",
       "  </tbody>\n",
       "</table>\n",
       "<p>5 rows × 37 columns</p>\n",
       "</div>"
      ],
      "text/plain": [
       "   rent_approval_date  town_0  town_1  town_2  town_3  town_4        block  \\\n",
       "0            0.970874       1       0       1       1       1  2624.520690   \n",
       "1            0.524272       0       1       1       1       0  2524.058532   \n",
       "2            1.000000       0       1       1       0       0  2696.577167   \n",
       "3            0.033981       0       0       0       0       1  2515.834726   \n",
       "4            0.495146       0       0       0       0       1  2609.989756   \n",
       "\n",
       "   street_name  flat_model  floor_area_sqm  ...  flat_type_3-room  \\\n",
       "0  2379.499974           7           121.0  ...                 0   \n",
       "1  2615.882473           6           100.0  ...                 0   \n",
       "2  2567.505982           2            91.0  ...                 0   \n",
       "3  2821.948226           6            74.0  ...                 1   \n",
       "4  2282.274343           7           121.0  ...                 0   \n",
       "\n",
       "   flat_type_4-room  flat_type_executive  flat_type_5-room  flat_type_2-room  \\\n",
       "0                 0                    0                 1                 0   \n",
       "1                 1                    0                 0                 0   \n",
       "2                 1                    0                 0                 0   \n",
       "3                 0                    0                 0                 0   \n",
       "4                 0                    0                 1                 0   \n",
       "\n",
       "   central region  east region  north region  north-east region  west region  \n",
       "0               0            0             0                  1            0  \n",
       "1               0            0             1                  0            0  \n",
       "2               0            0             0                  0            1  \n",
       "3               0            0             0                  0            1  \n",
       "4               0            0             0                  0            1  \n",
       "\n",
       "[5 rows x 37 columns]"
      ]
     },
     "execution_count": 36,
     "metadata": {},
     "output_type": "execute_result"
    }
   ],
   "source": [
    "df_test = pd.read_csv(\"../data/test_new.csv\")\n",
    "print('Number of test records: {}'.format(len(df_test)))\n",
    "df_test.head()"
   ]
  },
  {
   "cell_type": "code",
   "execution_count": 37,
   "metadata": {},
   "outputs": [],
   "source": [
    "cols = ['rent_approval_date', \n",
    "        'town_0', 'town_1', 'town_2', 'town_3', 'town_4', #for binary encoding\n",
    "#         'town', #for target encoding \n",
    "       'flat_model', \n",
    "       #'floor_area_sqm', \n",
    "       'lease_commence_date',\n",
    "       #'avg_stock_price', \n",
    "        'num_shopping_malls', \n",
    "        'min_distance',\n",
    "       'avg_coe_price', \n",
    "        'num_primary_schools', \n",
    "       'min_distance_planned',\n",
    "       'flat_type_3-room', 'flat_type_4-room', 'flat_type_executive', 'flat_type_5-room', 'flat_type_2-room',\n",
    "       'central region', 'east region', 'north region', 'north-east region', 'west region',\n",
    "       'subzone', \n",
    "        'latitude', 'longitude', \n",
    "       # 'furnished', 'elevation',\n",
    "        'planning_area_0' ,'planning_area_1' ,'planning_area_2' ,'planning_area_3' , 'planning_area_4', \n",
    "       # 'street_name', \n",
    "        'block'\n",
    "       ]\n",
    "\n",
    "y_train = df_train['monthly_rent'].values\n",
    "X_train = df_train[cols].values\n",
    "\n",
    "X_test = df_test[cols].values"
   ]
  },
  {
   "cell_type": "markdown",
   "metadata": {},
   "source": [
    "### Default KNN"
   ]
  },
  {
   "cell_type": "code",
   "execution_count": 38,
   "metadata": {},
   "outputs": [],
   "source": [
    "scaler = StandardScaler()\n",
    "X_train_scaled = scaler.fit_transform(X_train)\n",
    "X_test_scaled = scaler.transform(X_test)"
   ]
  },
  {
   "cell_type": "code",
   "execution_count": 39,
   "metadata": {},
   "outputs": [],
   "source": [
    "knn_regressor = KNeighborsRegressor()\n",
    "knn_regressor.fit(X_train_scaled, y_train)\n",
    "y_pred = knn_regressor.predict(X_test_scaled)"
   ]
  },
  {
   "cell_type": "code",
   "execution_count": 40,
   "metadata": {},
   "outputs": [
    {
     "name": "stdout",
     "output_type": "stream",
     "text": [
      "tuned random forestMAE: 450.667 (4.754)\n"
     ]
    }
   ],
   "source": [
    "scores = cross_val_score(knn_regressor, X_train, y_train, cv=5, scoring='neg_mean_absolute_error')\n",
    "print('tuned random forestMAE: %.3f (%.3f)' % (np.mean(-scores), np.std(scores)))"
   ]
  },
  {
   "cell_type": "code",
   "execution_count": 9,
   "metadata": {},
   "outputs": [
    {
     "name": "stdout",
     "output_type": "stream",
     "text": [
      "30000\n",
      "[3080, 2700, 3880, 2190, 2680]\n"
     ]
    }
   ],
   "source": [
    "y_pred = [int(x) for x in y_pred] \n",
    "print(len(y_pred))\n",
    "print(y_pred[:5])"
   ]
  },
  {
   "cell_type": "markdown",
   "metadata": {},
   "source": [
    "### Choice of k"
   ]
  },
  {
   "cell_type": "code",
   "execution_count": 11,
   "metadata": {},
   "outputs": [],
   "source": [
    "k_vals = [i for i in range(1, 100)]\n",
    "knn_mae = []\n",
    "for k in k_vals:\n",
    "    knn_regressor = KNeighborsRegressor(n_neighbors=k)\n",
    "    scores = cross_val_score(knn_regressor, X_train_scaled, y_train, cv=5, scoring='neg_mean_absolute_error')\n",
    "    knn_mae.append(np.mean(-scores))"
   ]
  },
  {
   "cell_type": "code",
   "execution_count": 14,
   "metadata": {},
   "outputs": [
    {
     "data": {
      "image/png": "[encoded data removed]",
      "text/plain": [
       "<Figure size 640x480 with 1 Axes>"
      ]
     },
     "metadata": {},
     "output_type": "display_data"
    }
   ],
   "source": [
    "plt.plot(k_vals,knn_mae)\n",
    "\n",
    "plt.ylabel('MAE')\n",
    "plt.xlabel('Number of Neighbors')\n",
    "plt.show()"
   ]
  },
  {
   "cell_type": "code",
   "execution_count": 15,
   "metadata": {},
   "outputs": [
    {
     "data": {
      "text/plain": [
       "382.5290625"
      ]
     },
     "execution_count": 15,
     "metadata": {},
     "output_type": "execute_result"
    }
   ],
   "source": [
    "min(knn_mae)"
   ]
  },
  {
   "cell_type": "code",
   "execution_count": 13,
   "metadata": {},
   "outputs": [
    {
     "data": {
      "text/plain": [
       "23"
      ]
     },
     "execution_count": 13,
     "metadata": {},
     "output_type": "execute_result"
    }
   ],
   "source": [
    "knn_mae.index(min(knn_mae))"
   ]
  },
  {
   "cell_type": "code",
   "execution_count": 42,
   "metadata": {},
   "outputs": [
    {
     "data": {
      "text/plain": [
       "24"
      ]
     },
     "execution_count": 42,
     "metadata": {},
     "output_type": "execute_result"
    }
   ],
   "source": [
    "k_vals[23]"
   ]
  },
  {
   "cell_type": "code",
   "execution_count": 23,
   "metadata": {},
   "outputs": [],
   "source": [
    "knn_regressor = KNeighborsRegressor(n_neighbors=23)\n",
    "knn_regressor.fit(X_train_scaled, y_train)\n",
    "y_pred = knn_regressor.predict(X_test_scaled)"
   ]
  },
  {
   "cell_type": "code",
   "execution_count": 24,
   "metadata": {},
   "outputs": [],
   "source": [
    "df = pd.DataFrame(y_pred, columns =['Predicted'], dtype = float)\n",
    "df.to_csv(\"../data/knn_output_k23.csv\", index_label='Id')"
   ]
  },
  {
   "cell_type": "markdown",
   "metadata": {},
   "source": [
    "### PCA experiments"
   ]
  },
  {
   "cell_type": "code",
   "execution_count": 17,
   "metadata": {},
   "outputs": [
    {
     "data": {
      "image/png": "[encoded data removed]",
      "text/plain": [
       "<Figure size 800x500 with 1 Axes>"
      ]
     },
     "metadata": {},
     "output_type": "display_data"
    }
   ],
   "source": [
    "pca = PCA().fit(X_train_scaled)\n",
    "\n",
    "# Calculate the cumulative sum of explained variance ratio\n",
    "cumulative_var_ratio = pca.explained_variance_ratio_.cumsum()\n",
    "\n",
    "# Plotting the cumulative explained variance\n",
    "plt.figure(figsize=(8, 5))\n",
    "plt.plot(cumulative_var_ratio, marker='o')\n",
    "plt.xlabel('Number of Components')\n",
    "plt.ylabel('Cumulative Explained Variance')\n",
    "plt.title('Explained Variance by PCA Components')\n",
    "plt.grid(True)\n",
    "plt.show()"
   ]
  },
  {
   "cell_type": "code",
   "execution_count": 32,
   "metadata": {},
   "outputs": [],
   "source": [
    "knn_model_with_pca = make_pipeline(StandardScaler(),\n",
    "                                   PCA(n_components=0.7),\n",
    "                                   KNeighborsRegressor(n_neighbors=23))"
   ]
  },
  {
   "cell_type": "code",
   "execution_count": 33,
   "metadata": {},
   "outputs": [
    {
     "name": "stdout",
     "output_type": "stream",
     "text": [
      "KNN MAE: 381.501 (3.639)\n"
     ]
    }
   ],
   "source": [
    "scores = cross_val_score(knn_model_with_pca, X_train, y_train, cv=5, scoring='neg_mean_absolute_error')\n",
    "print('KNN MAE: %.3f (%.3f)' % (np.mean(-scores), np.std(scores)))"
   ]
  },
  {
   "cell_type": "code",
   "execution_count": null,
   "metadata": {},
   "outputs": [],
   "source": []
  }
 ],
 "metadata": {
  "kernelspec": {
   "display_name": "Python 3",
   "language": "python",
   "name": "python3"
  },
  "language_info": {
   "codemirror_mode": {
    "name": "ipython",
    "version": 3
   },
   "file_extension": ".py",
   "mimetype": "text/x-python",
   "name": "python",
   "nbconvert_exporter": "python",
   "pygments_lexer": "ipython3",
   "version": "3.11.5"
  }
 },
 "nbformat": 4,
 "nbformat_minor": 2
}
